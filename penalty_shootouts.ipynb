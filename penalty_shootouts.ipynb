{
 "cells": [
  {
   "cell_type": "markdown",
   "id": "8d6e53e6",
   "metadata": {},
   "source": [
    "# Canhotos e as cobranças de penalty\n",
    "\n",
    "## Introdução\n",
    "\n",
    "Neste projeto rápido eu testo dois mitos frequentes sobre canhotos e cobranças de penalty. O primeiro mito é o de que \"canhoto não sabe bater penalty\". O segundo é o de que \"canhoto perde penalty se bater no lado direito\" (ponto de vista do batedor).\n",
    "\n",
    "Eu testo esses dois mitos utilizando uma base com dados de todas as cobranças de penalty nas copas, entre 1982 e 2018. O conjunto de dados está disponível no link: https://www.kaggle.com/datasets/pablollanderos33/world-cup-penalty-shootouts?resource=download. "
   ]
  },
  {
   "cell_type": "markdown",
   "id": "f26683b6",
   "metadata": {},
   "source": [
    "## Importação dos dados e manipulações preliminares"
   ]
  },
  {
   "cell_type": "code",
   "execution_count": 1,
   "id": "b4d3bb03",
   "metadata": {},
   "outputs": [],
   "source": [
    "# importando as bibliotecas básicas\n",
    "import pandas as pd\n",
    "import numpy as np"
   ]
  },
  {
   "cell_type": "code",
   "execution_count": 2,
   "id": "ac021b30",
   "metadata": {},
   "outputs": [],
   "source": [
    "# importando os dados\n",
    "df = pd.read_csv('WorldCupShootouts.csv')"
   ]
  },
  {
   "cell_type": "code",
   "execution_count": 3,
   "id": "ab8af53b",
   "metadata": {},
   "outputs": [
    {
     "data": {
      "text/html": [
       "<div>\n",
       "<style scoped>\n",
       "    .dataframe tbody tr th:only-of-type {\n",
       "        vertical-align: middle;\n",
       "    }\n",
       "\n",
       "    .dataframe tbody tr th {\n",
       "        vertical-align: top;\n",
       "    }\n",
       "\n",
       "    .dataframe thead th {\n",
       "        text-align: right;\n",
       "    }\n",
       "</style>\n",
       "<table border=\"1\" class=\"dataframe\">\n",
       "  <thead>\n",
       "    <tr style=\"text-align: right;\">\n",
       "      <th></th>\n",
       "      <th>Game_id</th>\n",
       "      <th>Team</th>\n",
       "      <th>Zone</th>\n",
       "      <th>Foot</th>\n",
       "      <th>Keeper</th>\n",
       "      <th>OnTarget</th>\n",
       "      <th>Goal</th>\n",
       "      <th>Penalty_Number</th>\n",
       "      <th>Elimination</th>\n",
       "    </tr>\n",
       "  </thead>\n",
       "  <tbody>\n",
       "    <tr>\n",
       "      <th>0</th>\n",
       "      <td>1</td>\n",
       "      <td>FRA</td>\n",
       "      <td>7.0</td>\n",
       "      <td>R</td>\n",
       "      <td>R</td>\n",
       "      <td>1.0</td>\n",
       "      <td>1.0</td>\n",
       "      <td>1</td>\n",
       "      <td>0.0</td>\n",
       "    </tr>\n",
       "    <tr>\n",
       "      <th>1</th>\n",
       "      <td>1</td>\n",
       "      <td>GER</td>\n",
       "      <td>9.0</td>\n",
       "      <td>R</td>\n",
       "      <td>C</td>\n",
       "      <td>1.0</td>\n",
       "      <td>1.0</td>\n",
       "      <td>2</td>\n",
       "      <td>0.0</td>\n",
       "    </tr>\n",
       "    <tr>\n",
       "      <th>2</th>\n",
       "      <td>1</td>\n",
       "      <td>FRA</td>\n",
       "      <td>6.0</td>\n",
       "      <td>R</td>\n",
       "      <td>L</td>\n",
       "      <td>1.0</td>\n",
       "      <td>1.0</td>\n",
       "      <td>3</td>\n",
       "      <td>0.0</td>\n",
       "    </tr>\n",
       "    <tr>\n",
       "      <th>3</th>\n",
       "      <td>1</td>\n",
       "      <td>GER</td>\n",
       "      <td>2.0</td>\n",
       "      <td>R</td>\n",
       "      <td>C</td>\n",
       "      <td>1.0</td>\n",
       "      <td>1.0</td>\n",
       "      <td>4</td>\n",
       "      <td>0.0</td>\n",
       "    </tr>\n",
       "    <tr>\n",
       "      <th>4</th>\n",
       "      <td>1</td>\n",
       "      <td>FRA</td>\n",
       "      <td>9.0</td>\n",
       "      <td>R</td>\n",
       "      <td>L</td>\n",
       "      <td>1.0</td>\n",
       "      <td>1.0</td>\n",
       "      <td>5</td>\n",
       "      <td>0.0</td>\n",
       "    </tr>\n",
       "  </tbody>\n",
       "</table>\n",
       "</div>"
      ],
      "text/plain": [
       "   Game_id Team  Zone Foot Keeper  OnTarget  Goal  Penalty_Number  Elimination\n",
       "0        1  FRA   7.0    R      R       1.0   1.0               1          0.0\n",
       "1        1  GER   9.0    R      C       1.0   1.0               2          0.0\n",
       "2        1  FRA   6.0    R      L       1.0   1.0               3          0.0\n",
       "3        1  GER   2.0    R      C       1.0   1.0               4          0.0\n",
       "4        1  FRA   9.0    R      L       1.0   1.0               5          0.0"
      ]
     },
     "execution_count": 3,
     "metadata": {},
     "output_type": "execute_result"
    }
   ],
   "source": [
    "# visualizando alguns registros do dataframe\n",
    "df.head()"
   ]
  },
  {
   "cell_type": "code",
   "execution_count": 4,
   "id": "555a9d99",
   "metadata": {},
   "outputs": [
    {
     "name": "stdout",
     "output_type": "stream",
     "text": [
      "A porcentagem de acertos das cobranças à esquerda do gol é de: 69.29%\n",
      "A porcentagem de acertos das cobranças no centro do gol é de: 59.65%\n",
      "A porcentagem de acertos das cobranças à direita do gol é de: 76.84%\n"
     ]
    }
   ],
   "source": [
    "# verificando a porcentagem de acertos das cobranças à esquerda, direita e no centro do gol\n",
    "\n",
    "# dataframe contendo somente as cobranças à esquerda do gol\n",
    "df_left = df[(df['Zone'] == 1) | (df['Zone'] == 4) | (df['Zone'] == 7)]\n",
    "\n",
    "# dataframe contendo somente as cobranças no centro do gol\n",
    "df_center = df[(df['Zone'] == 2) | (df['Zone'] == 5) | (df['Zone'] == 8)]\n",
    "\n",
    "# dataframe contendo somente as cobranças à direita do gol\n",
    "df_right = df[(df['Zone'] == 3) | (df['Zone'] == 6) | (df['Zone'] == 9)]\n",
    "\n",
    "# porcentagem de acertos das cobranças à esquerda\n",
    "l_success_rate = df_left['Goal'].sum()/len(df_left['Goal'])\n",
    "\n",
    "# porcentagem de acertos das cobranças no centro \n",
    "c_success_rate = df_center['Goal'].sum()/len(df_center['Goal'])\n",
    "\n",
    "# porcentagem de acertos das cobranças à direita\n",
    "r_success_rate = df_right['Goal'].sum()/len(df_right['Goal'])\n",
    "\n",
    "\n",
    "print('A porcentagem de acertos das cobranças à esquerda do gol é de: {0:.2%}'.format(l_success_rate))\n",
    "print('A porcentagem de acertos das cobranças no centro do gol é de: {0:.2%}'.format(c_success_rate))\n",
    "print('A porcentagem de acertos das cobranças à direita do gol é de: {0:.2%}'.format(r_success_rate))"
   ]
  },
  {
   "cell_type": "code",
   "execution_count": 5,
   "id": "79e191ed",
   "metadata": {},
   "outputs": [
    {
     "name": "stdout",
     "output_type": "stream",
     "text": [
      "A porcentagem de acerto dos canhotos nas cobranças à esquerda do gol é de: 66.67%\n",
      "A porcentagem de acerto dos canhotos nas cobranças no centro do gol é de: 61.54%\n",
      "A porcentagem de acerto dos canhotos nas cobranças à direita do gol é de: 72.73%\n"
     ]
    }
   ],
   "source": [
    "# verificando as porcentagems de acerto dos canhotos nos dois lados do gol e no centro\n",
    "\n",
    "# cria um novo dataframe somente com os dados dos canhotos\n",
    "l_foot = df[df['Foot'] == 'L']\n",
    "\n",
    "# cria um novo dataframe somente com as cobranças à esquerda do gol\n",
    "l_foot_left = l_foot[(l_foot['Zone'] == 1) | (l_foot['Zone'] == 4) | (l_foot['Zone'] == 7)]\n",
    "# cria um novo dataframe somente com as cobranças no centro do gol\n",
    "l_foot_center = l_foot[(l_foot['Zone'] == 2) | (l_foot['Zone'] == 5) | (l_foot['Zone'] == 8)]\n",
    "# cria um novo dataframe somente com as cobranças à direita do gol\n",
    "l_foot_right = l_foot[(l_foot['Zone'] == 3) | (l_foot['Zone'] == 6) | (l_foot['Zone'] == 9)]\n",
    "\n",
    "# calcula a porcentagem de acerto das cobranças à esquerda do gol\n",
    "l_foot_l_success_rate = l_foot_left['Goal'].sum()/len(l_foot_left['Goal'])\n",
    "# calcula a porcentagem de acerto das cobranças no centro do gol\n",
    "l_foot_c_success_rate = l_foot_center['Goal'].sum()/len(l_foot_center['Goal'])\n",
    "# calcula a porcentagem de acerto das cobranças à direita do gol\n",
    "l_foot_r_success_rate = l_foot_right['Goal'].sum()/len(l_foot_right['Goal'])\n",
    "\n",
    "print('A porcentagem de acerto dos canhotos nas cobranças à esquerda do gol é de: {:.2%}'.format(l_foot_l_success_rate))\n",
    "print('A porcentagem de acerto dos canhotos nas cobranças no centro do gol é de: {:.2%}'.format(l_foot_c_success_rate))\n",
    "print('A porcentagem de acerto dos canhotos nas cobranças à direita do gol é de: {:.2%}'.format(l_foot_r_success_rate))"
   ]
  },
  {
   "cell_type": "markdown",
   "id": "564bfd80",
   "metadata": {},
   "source": [
    "## Análise da diferença de acertos entre destros e canhotos"
   ]
  },
  {
   "cell_type": "code",
   "execution_count": 6,
   "id": "ac3ff87c",
   "metadata": {},
   "outputs": [
    {
     "name": "stdout",
     "output_type": "stream",
     "text": [
      "A porcentagem de successo dos destros nas cobranças é de: 70.40%\n",
      "A porcentagem de successo dos canhotos nas cobranças é de: 67.86%\n"
     ]
    }
   ],
   "source": [
    "# dataframe com os dados dos destros apenas\n",
    "r_foot = df[df['Foot'] == 'R']\n",
    "\n",
    "# calcula a taxa de acertos dos destros\n",
    "r_foot_success = r_foot['Goal'].sum()/len(r_foot)\n",
    "# calcula a taxa de acertos dos canhotos\n",
    "l_foot_success = l_foot['Goal'].sum()/len(l_foot)\n",
    "\n",
    "print('A porcentagem de successo dos destros nas cobranças é de: {:.2%}'.format(r_foot_success))\n",
    "print('A porcentagem de successo dos canhotos nas cobranças é de: {:.2%}'.format(l_foot_success))"
   ]
  },
  {
   "cell_type": "markdown",
   "id": "fc4161cc",
   "metadata": {},
   "source": [
    "Deseja-se agora testar se a diferença no sucesso nas cobranças é estatisticamente significante.\n",
    "\n",
    "Esta questão será resolvida aplicando-se um teste do $\\chi^2$. \n",
    "\n",
    "Tem-se aqui as seguintes hipóteses nula e alternativa:\n",
    "\n",
    "   $$H_0 \\text{: A taxa de acerto de penaltis de canhotos e destros não apresenta diferença significativa.}$$\n",
    "   $$H_1 \\text{: A taxa de acerto de penaltis dos destros é maior dos que a dos canhotos.}$$"
   ]
  },
  {
   "cell_type": "code",
   "execution_count": 7,
   "id": "75c9b9c1",
   "metadata": {},
   "outputs": [],
   "source": [
    "# cria uma nova coluna que indica gols e perdas com \"Yes\" ou \"No\"\n",
    "df['Goal2'] = df['Goal'].replace({0 : 'No', 1 : 'Yes'})"
   ]
  },
  {
   "cell_type": "code",
   "execution_count": 8,
   "id": "4e3dbd9a",
   "metadata": {},
   "outputs": [
    {
     "data": {
      "text/html": [
       "<div>\n",
       "<style scoped>\n",
       "    .dataframe tbody tr th:only-of-type {\n",
       "        vertical-align: middle;\n",
       "    }\n",
       "\n",
       "    .dataframe tbody tr th {\n",
       "        vertical-align: top;\n",
       "    }\n",
       "\n",
       "    .dataframe thead th {\n",
       "        text-align: right;\n",
       "    }\n",
       "</style>\n",
       "<table border=\"1\" class=\"dataframe\">\n",
       "  <thead>\n",
       "    <tr style=\"text-align: right;\">\n",
       "      <th>Goal</th>\n",
       "      <th>No</th>\n",
       "      <th>Yes</th>\n",
       "    </tr>\n",
       "    <tr>\n",
       "      <th>Foot</th>\n",
       "      <th></th>\n",
       "      <th></th>\n",
       "    </tr>\n",
       "  </thead>\n",
       "  <tbody>\n",
       "    <tr>\n",
       "      <th>L</th>\n",
       "      <td>18</td>\n",
       "      <td>38</td>\n",
       "    </tr>\n",
       "    <tr>\n",
       "      <th>R</th>\n",
       "      <td>66</td>\n",
       "      <td>157</td>\n",
       "    </tr>\n",
       "  </tbody>\n",
       "</table>\n",
       "</div>"
      ],
      "text/plain": [
       "Goal  No  Yes\n",
       "Foot         \n",
       "L     18   38\n",
       "R     66  157"
      ]
     },
     "execution_count": 8,
     "metadata": {},
     "output_type": "execute_result"
    }
   ],
   "source": [
    "# matriz de contingência\n",
    "cross_tab = pd.crosstab(df['Foot'], df['Goal2'], colnames = ['Goal'], margins = False)\n",
    "cross_tab"
   ]
  },
  {
   "cell_type": "code",
   "execution_count": 9,
   "id": "12c21428",
   "metadata": {},
   "outputs": [],
   "source": [
    "# inicia a matriz esperada com zeros\n",
    "E = np.zeros((2, 2))"
   ]
  },
  {
   "cell_type": "code",
   "execution_count": 10,
   "id": "8dd431c8",
   "metadata": {},
   "outputs": [
    {
     "data": {
      "text/plain": [
       "array([[ 16.86021505,  39.13978495],\n",
       "       [ 67.13978495, 155.86021505]])"
      ]
     },
     "execution_count": 10,
     "metadata": {},
     "output_type": "execute_result"
    }
   ],
   "source": [
    "# atribui os elementos da matriz esperada\n",
    "for i in range(2):\n",
    "    for j in range(2):\n",
    "        E[i, j] = (cross_tab.iloc[i, :].sum())*(cross_tab.iloc[:, j].sum()) / 279.\n",
    "        \n",
    "# Matriz esperada\n",
    "E"
   ]
  },
  {
   "cell_type": "code",
   "execution_count": 11,
   "id": "3cd91221",
   "metadata": {},
   "outputs": [
    {
     "data": {
      "text/plain": [
       "0.1379277513005892"
      ]
     },
     "execution_count": 11,
     "metadata": {},
     "output_type": "execute_result"
    }
   ],
   "source": [
    "# calcula o valor de qui quadrado do teste\n",
    "chi2_calc = 0\n",
    "\n",
    "for i in range(2):\n",
    "    for j in range(2):\n",
    "        chi2_calc += (cross_tab.iloc[i, j] - E[i, j])**2 / E[i, j]\n",
    "        \n",
    "chi2_calc"
   ]
  },
  {
   "cell_type": "markdown",
   "id": "cf3a7ccd",
   "metadata": {},
   "source": [
    "Para uma significância de 95%, $\\chi^2_{\\text{critico}} = 3.84.$\n",
    "\n",
    "Também pode-se calcular o valor-p para o teste"
   ]
  },
  {
   "cell_type": "code",
   "execution_count": 12,
   "id": "716686c7",
   "metadata": {},
   "outputs": [
    {
     "data": {
      "text/plain": [
       "0.7103498607364915"
      ]
     },
     "execution_count": 12,
     "metadata": {},
     "output_type": "execute_result"
    }
   ],
   "source": [
    "from scipy import stats\n",
    "\n",
    "# p-value do teste\n",
    "p_value = 1 - stats.chi2.cdf(chi2_calc, 1)\n",
    "p_value"
   ]
  },
  {
   "cell_type": "markdown",
   "id": "843d3ded",
   "metadata": {},
   "source": [
    "Como o p-valor é maior que o nível de significância a hipótese nula não pode ser rejeitada. Portanto, não há diferença significativa entre destros e canhotos nos acertos de penaltis."
   ]
  },
  {
   "cell_type": "markdown",
   "id": "b0ae2d60",
   "metadata": {},
   "source": [
    "## Testando o mito de que canhotos erram penaltis cobrados à direita do gol"
   ]
  },
  {
   "cell_type": "code",
   "execution_count": 13,
   "id": "27fa881d",
   "metadata": {},
   "outputs": [],
   "source": [
    "# indica se a cobrança foi à esquerda, centro ou direita do gol\n",
    "def shoot_side(zone):\n",
    "    '''\n",
    "    Recebe a zona do gol e retorna o lado da cobrança \n",
    "    \n",
    "    :param zone: integer\n",
    "    \n",
    "    '''\n",
    "\n",
    "    if zone in (1, 4, 7):\n",
    "        return \"Left\"\n",
    "    elif zone in (2, 5, 8):\n",
    "        return \"Center\"\n",
    "    else:\n",
    "        return \"Right\""
   ]
  },
  {
   "cell_type": "code",
   "execution_count": 14,
   "id": "8c2d710a",
   "metadata": {},
   "outputs": [
    {
     "name": "stderr",
     "output_type": "stream",
     "text": [
      "/tmp/ipykernel_6767/1285718338.py:2: SettingWithCopyWarning: \n",
      "A value is trying to be set on a copy of a slice from a DataFrame.\n",
      "Try using .loc[row_indexer,col_indexer] = value instead\n",
      "\n",
      "See the caveats in the documentation: https://pandas.pydata.org/pandas-docs/stable/user_guide/indexing.html#returning-a-view-versus-a-copy\n",
      "  l_foot['shoot_side'] = l_foot['Zone'].apply(shoot_side)\n"
     ]
    }
   ],
   "source": [
    "# cria uma nova coluna com o lado do gol em que a cobrança foi efetuada\n",
    "l_foot['shoot_side'] = l_foot['Zone'].apply(shoot_side)"
   ]
  },
  {
   "cell_type": "markdown",
   "id": "687264e0",
   "metadata": {},
   "source": [
    "Como o interesse nesta análise é comparar as cobranças feitas do lado direito e esquerdo, as cobranças realizadas no centro do gol são eliminadas da análise."
   ]
  },
  {
   "cell_type": "code",
   "execution_count": 17,
   "id": "70e6aba6",
   "metadata": {},
   "outputs": [
    {
     "data": {
      "text/html": [
       "<div>\n",
       "<style scoped>\n",
       "    .dataframe tbody tr th:only-of-type {\n",
       "        vertical-align: middle;\n",
       "    }\n",
       "\n",
       "    .dataframe tbody tr th {\n",
       "        vertical-align: top;\n",
       "    }\n",
       "\n",
       "    .dataframe thead th {\n",
       "        text-align: right;\n",
       "    }\n",
       "</style>\n",
       "<table border=\"1\" class=\"dataframe\">\n",
       "  <thead>\n",
       "    <tr style=\"text-align: right;\">\n",
       "      <th></th>\n",
       "      <th>Game_id</th>\n",
       "      <th>Team</th>\n",
       "      <th>Zone</th>\n",
       "      <th>Foot</th>\n",
       "      <th>Keeper</th>\n",
       "      <th>OnTarget</th>\n",
       "      <th>Goal</th>\n",
       "      <th>Penalty_Number</th>\n",
       "      <th>Elimination</th>\n",
       "      <th>shoot_side</th>\n",
       "    </tr>\n",
       "  </thead>\n",
       "  <tbody>\n",
       "    <tr>\n",
       "      <th>17</th>\n",
       "      <td>2</td>\n",
       "      <td>FRA</td>\n",
       "      <td>9.0</td>\n",
       "      <td>L</td>\n",
       "      <td>R</td>\n",
       "      <td>1.0</td>\n",
       "      <td>1.0</td>\n",
       "      <td>6</td>\n",
       "      <td>0.0</td>\n",
       "      <td>Right</td>\n",
       "    </tr>\n",
       "    <tr>\n",
       "      <th>18</th>\n",
       "      <td>2</td>\n",
       "      <td>BRA</td>\n",
       "      <td>4.0</td>\n",
       "      <td>L</td>\n",
       "      <td>R</td>\n",
       "      <td>1.0</td>\n",
       "      <td>1.0</td>\n",
       "      <td>7</td>\n",
       "      <td>0.0</td>\n",
       "      <td>Left</td>\n",
       "    </tr>\n",
       "    <tr>\n",
       "      <th>22</th>\n",
       "      <td>3</td>\n",
       "      <td>GER</td>\n",
       "      <td>1.0</td>\n",
       "      <td>L</td>\n",
       "      <td>R</td>\n",
       "      <td>1.0</td>\n",
       "      <td>1.0</td>\n",
       "      <td>1</td>\n",
       "      <td>0.0</td>\n",
       "      <td>Left</td>\n",
       "    </tr>\n",
       "    <tr>\n",
       "      <th>23</th>\n",
       "      <td>3</td>\n",
       "      <td>MEX</td>\n",
       "      <td>6.0</td>\n",
       "      <td>L</td>\n",
       "      <td>L</td>\n",
       "      <td>1.0</td>\n",
       "      <td>1.0</td>\n",
       "      <td>2</td>\n",
       "      <td>0.0</td>\n",
       "      <td>Right</td>\n",
       "    </tr>\n",
       "    <tr>\n",
       "      <th>42</th>\n",
       "      <td>5</td>\n",
       "      <td>ROM</td>\n",
       "      <td>3.0</td>\n",
       "      <td>L</td>\n",
       "      <td>R</td>\n",
       "      <td>1.0</td>\n",
       "      <td>1.0</td>\n",
       "      <td>1</td>\n",
       "      <td>0.0</td>\n",
       "      <td>Right</td>\n",
       "    </tr>\n",
       "  </tbody>\n",
       "</table>\n",
       "</div>"
      ],
      "text/plain": [
       "    Game_id Team  Zone Foot Keeper  OnTarget  Goal  Penalty_Number  \\\n",
       "17        2  FRA   9.0    L      R       1.0   1.0               6   \n",
       "18        2  BRA   4.0    L      R       1.0   1.0               7   \n",
       "22        3  GER   1.0    L      R       1.0   1.0               1   \n",
       "23        3  MEX   6.0    L      L       1.0   1.0               2   \n",
       "42        5  ROM   3.0    L      R       1.0   1.0               1   \n",
       "\n",
       "    Elimination shoot_side  \n",
       "17          0.0      Right  \n",
       "18          0.0       Left  \n",
       "22          0.0       Left  \n",
       "23          0.0      Right  \n",
       "42          0.0      Right  "
      ]
     },
     "execution_count": 17,
     "metadata": {},
     "output_type": "execute_result"
    }
   ],
   "source": [
    "# cria um novo dataframe sem as cobranças no centro do gol \n",
    "l_foot = l_foot[l_foot['shoot_side'] != \"Center\"]\n",
    "l_foot.head()"
   ]
  },
  {
   "cell_type": "markdown",
   "id": "ca2f9036",
   "metadata": {},
   "source": [
    "A hipótese a ser testada aqui é a de que canhotos erram mais cobranças à direita do que à esquerda do gol.\n",
    "\n",
    "Portanto, as hipóteses nula e alternativa podem ser formalizadas por:\n",
    "\n",
    "   $$H_0 \\text{: A taxa de acerto de penaltis dos canhotos das cobranças à direita e à esquerda do gol não apresenta diferença estatisticamente significativa.}$$\n",
    "   $$H_1 \\text{: A taxa de acertos de penaltis cobrados por canhotos à esquerda do gol é maior do que a taxa de acertos à direita do gol.}$$\n"
   ]
  },
  {
   "cell_type": "code",
   "execution_count": 25,
   "id": "23712dfb",
   "metadata": {},
   "outputs": [
    {
     "data": {
      "text/html": [
       "<div>\n",
       "<style scoped>\n",
       "    .dataframe tbody tr th:only-of-type {\n",
       "        vertical-align: middle;\n",
       "    }\n",
       "\n",
       "    .dataframe tbody tr th {\n",
       "        vertical-align: top;\n",
       "    }\n",
       "\n",
       "    .dataframe thead th {\n",
       "        text-align: right;\n",
       "    }\n",
       "</style>\n",
       "<table border=\"1\" class=\"dataframe\">\n",
       "  <thead>\n",
       "    <tr style=\"text-align: right;\">\n",
       "      <th>Goal</th>\n",
       "      <th>No</th>\n",
       "      <th>Yes</th>\n",
       "    </tr>\n",
       "    <tr>\n",
       "      <th>Goal Side</th>\n",
       "      <th></th>\n",
       "      <th></th>\n",
       "    </tr>\n",
       "  </thead>\n",
       "  <tbody>\n",
       "    <tr>\n",
       "      <th>Left</th>\n",
       "      <td>7</td>\n",
       "      <td>14</td>\n",
       "    </tr>\n",
       "    <tr>\n",
       "      <th>Right</th>\n",
       "      <td>6</td>\n",
       "      <td>16</td>\n",
       "    </tr>\n",
       "  </tbody>\n",
       "</table>\n",
       "</div>"
      ],
      "text/plain": [
       "Goal       No  Yes\n",
       "Goal Side         \n",
       "Left        7   14\n",
       "Right       6   16"
      ]
     },
     "execution_count": 25,
     "metadata": {},
     "output_type": "execute_result"
    }
   ],
   "source": [
    "# matriz de contingência\n",
    "cross_tab2 = pd.crosstab(l_foot['shoot_side'], df['Goal2'], rownames = ['Goal Side'], colnames = ['Goal'], margins = False)\n",
    "cross_tab2"
   ]
  },
  {
   "cell_type": "code",
   "execution_count": 26,
   "id": "1da4b0dd",
   "metadata": {},
   "outputs": [],
   "source": [
    "# inicia a matriz esperada com zeros\n",
    "E2 = np.zeros((2, 2))"
   ]
  },
  {
   "cell_type": "code",
   "execution_count": 29,
   "id": "220f51fc",
   "metadata": {},
   "outputs": [
    {
     "data": {
      "text/plain": [
       "array([[ 6.34883721, 14.65116279],\n",
       "       [ 6.65116279, 15.34883721]])"
      ]
     },
     "execution_count": 29,
     "metadata": {},
     "output_type": "execute_result"
    }
   ],
   "source": [
    "# atribui os elementos da matriz esperada\n",
    "for i in range(2):\n",
    "    for j in range(2):\n",
    "        E2[i, j] = (cross_tab2.iloc[i, :].sum())*(cross_tab2.iloc[:, j].sum()) / 43.\n",
    "E2"
   ]
  },
  {
   "cell_type": "code",
   "execution_count": 30,
   "id": "2ed532e3",
   "metadata": {},
   "outputs": [
    {
     "data": {
      "text/plain": [
       "0.1871017871017871"
      ]
     },
     "execution_count": 30,
     "metadata": {},
     "output_type": "execute_result"
    }
   ],
   "source": [
    "# calcula o valor de qui quadrado \n",
    "chi2_calc2 = 0\n",
    "\n",
    "for i in range(2):\n",
    "    for j in range(2):\n",
    "        chi2_calc2 += (cross_tab2.iloc[i, j] - E2[i, j])**2 / E2[i, j]\n",
    "        \n",
    "chi2_calc2"
   ]
  },
  {
   "cell_type": "markdown",
   "id": "54772333",
   "metadata": {},
   "source": [
    "Considerando novamente um nível de significância de 95%, o valor de $\\chi^2_{\\text{calc}}$ é menor que o valor crítico $\\chi^2_{\\text{critico}} = 3.84.$\n",
    "\n",
    "Por fim, o valor-p é calculado."
   ]
  },
  {
   "cell_type": "code",
   "execution_count": 32,
   "id": "cb41690d",
   "metadata": {},
   "outputs": [
    {
     "data": {
      "text/plain": [
       "0.6653398015268104"
      ]
     },
     "execution_count": 32,
     "metadata": {},
     "output_type": "execute_result"
    }
   ],
   "source": [
    "# p-value do teste\n",
    "p_value2 = 1 - stats.chi2.cdf(chi2_calc2, 1)\n",
    "p_value2"
   ]
  },
  {
   "cell_type": "markdown",
   "id": "68bb1e8e",
   "metadata": {},
   "source": [
    "Mais uma vez, tem-se um valor-p maior do que o nível de significância e a hipótese nula não pode ser descartada. \n",
    "\n",
    "Conclui-se, portanto, que não há diferença significativa nos acertos das cobranças à esquerda e à direita do gol pelos canhotos.  "
   ]
  }
 ],
 "metadata": {
  "kernelspec": {
   "display_name": "Python 3 (ipykernel)",
   "language": "python",
   "name": "python3"
  },
  "language_info": {
   "codemirror_mode": {
    "name": "ipython",
    "version": 3
   },
   "file_extension": ".py",
   "mimetype": "text/x-python",
   "name": "python",
   "nbconvert_exporter": "python",
   "pygments_lexer": "ipython3",
   "version": "3.10.6"
  }
 },
 "nbformat": 4,
 "nbformat_minor": 5
}
